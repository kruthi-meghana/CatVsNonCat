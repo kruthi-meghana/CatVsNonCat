{
 "cells": [
  {
   "cell_type": "code",
   "execution_count": 95,
   "metadata": {
    "collapsed": true
   },
   "outputs": [],
   "source": [
    "import numpy as np\n",
    "import scipy\n",
    "import h5py\n",
    "import matplotlib.pyplot as plt\n",
    "\n",
    "from PIL import Image\n",
    "from scipy import ndimage\n",
    "from lr_utils import load_dataset\n",
    "\n",
    "%matplotlib inline"
   ]
  },
  {
   "cell_type": "code",
   "execution_count": 96,
   "metadata": {
    "collapsed": true
   },
   "outputs": [],
   "source": [
    "#Loading dataset from the dataset via load_dataset defined in lr_utils\n",
    "train_x_orig, train_y, test_x_orig, test_y, classes = load_dataset()\n",
    "\"\"\"\n",
    "Terminology: \n",
    "m -> number of examples\n",
    "nx -> height = widith of the image\n",
    "c  -> number of channels    \n",
    "\"\"\"\n",
    "\n",
    "m_train = train_x_orig.shape[0]\n",
    "nx_train = train_x_orig.shape[1]\n",
    "c_train = train_x_orig.shape[3]\n",
    "\n",
    "m_test = test_x_orig.shape[0]\n",
    "nx_test = test_x_orig.shape[1]\n",
    "c_test = test_x_orig.shape[3]"
   ]
  },
  {
   "cell_type": "code",
   "execution_count": 97,
   "metadata": {
    "collapsed": true
   },
   "outputs": [],
   "source": [
    "#Step-01: We shall now flattern the train_set_x & test_set_x to a n*m matrix\n",
    "train_x = train_x_orig.reshape(m_train,nx_train*nx_train*c_train).T\n",
    "test_x = test_x_orig.reshape(m_test,nx_test*nx_test*c_test).T"
   ]
  },
  {
   "cell_type": "code",
   "execution_count": 98,
   "metadata": {
    "collapsed": true
   },
   "outputs": [],
   "source": [
    "#step-02: Normaize the input i.e. train_x & test_x\n",
    "train_x = train_x / 255\n",
    "test_x = test_x / 255"
   ]
  },
  {
   "cell_type": "code",
   "execution_count": 106,
   "metadata": {
    "collapsed": true
   },
   "outputs": [],
   "source": [
    "#step-03: Random initialization of parameters W\n",
    "def randomInitialization(nx):\n",
    "    w = np.random.rand(nx,1)*0.01\n",
    "    #w = np.zeros((nx,1))\n",
    "    b = 0\n",
    "    return w,b"
   ]
  },
  {
   "cell_type": "code",
   "execution_count": 107,
   "metadata": {
    "collapsed": true
   },
   "outputs": [],
   "source": [
    "#step-04: Prepare sigmoid function for computing Activation Function\n",
    "def sigmoid(z):\n",
    "    return 1/(1+ np.exp(-z))"
   ]
  },
  {
   "cell_type": "code",
   "execution_count": 108,
   "metadata": {
    "collapsed": true
   },
   "outputs": [],
   "source": [
    "#step-05: Forward Propogation & Backward Propogation\n",
    "def Propogation(X, y, w, b):\n",
    "    \n",
    "    #Forward Propogation\n",
    "    \n",
    "    \"\"\"\n",
    "    Terminology: \n",
    "       z -> Linear function\n",
    "       A -> Activation function\n",
    "       J -> Cost function\n",
    "    \"\"\"\n",
    "    m = X.shape[1]\n",
    "    z = np.dot(w.T,X)+b\n",
    "    A = sigmoid(z)\n",
    "    J = (-1/m)*np.sum(y*np.log(A)+ (1-y)*np.log(1-A))\n",
    "    \n",
    "    #Backward Propogation\n",
    "    \n",
    "    \"\"\"\n",
    "    Terminology: \n",
    "       dw -> Gradient or slope of 'w'\n",
    "       db -> Gradient or slope of 'b'\n",
    "    \"\"\"\n",
    "    \n",
    "    dw = (1/m)*np.dot(X,(A-y).T)\n",
    "    db = (1/m)*np.sum(A-y)\n",
    "    \n",
    "    gradients = {\n",
    "        \"dw\":dw,\n",
    "        \"db\":db\n",
    "    }\n",
    "    return gradients, J\n"
   ]
  },
  {
   "cell_type": "code",
   "execution_count": 109,
   "metadata": {
    "collapsed": true
   },
   "outputs": [],
   "source": [
    "#step-06: Now we need to find the perfect fit of 'w' & 'b', \n",
    "def perfectFit(X, y, w, b, alpha, noIterations):\n",
    "    \"\"\"\n",
    "    Terminology: \n",
    "       alpha -> Learning Rate\n",
    "       noIterations -> Number of Iterations\n",
    "       costs[] -> lists of costs computed; In the end we can plot the graph of costs vs no. of iterations\n",
    "    \"\"\" \n",
    "    \n",
    "    costs = []\n",
    "    \n",
    "    for i in range(noIterations):\n",
    "        \n",
    "        gradients, J = Propogation(X, y, w, b)\n",
    "        dw = gradients['dw']\n",
    "        db = gradients['db']\n",
    "        \n",
    "        w = w - alpha*dw\n",
    "        b = b - alpha*db\n",
    "        \n",
    "        if i % 100 == 0:\n",
    "            costs.append(J)\n",
    "        \n",
    "    parameters = {\n",
    "        \"w\" : w,\n",
    "        \"b\" : b\n",
    "    }\n",
    "    \n",
    "    gradients = {\n",
    "        \"dw\" : dw,\n",
    "        \"db\" : db\n",
    "    }\n",
    "    return parameters, gradients, costs\n",
    "        \n",
    "        "
   ]
  },
  {
   "cell_type": "code",
   "execution_count": 110,
   "metadata": {
    "collapsed": true
   },
   "outputs": [],
   "source": [
    "#step-07 Testing the data againsts the calculated params\n",
    "def testData(X, w, b):\n",
    "    w = w.reshape(X.shape[0], 1)\n",
    "    z = np.dot(w.T,X)+b\n",
    "    A = sigmoid(z)\n",
    "    m = X.shape[1]\n",
    "    Y_prediction = np.zeros((1,m))    \n",
    "    #Now that we have probabilities in 'A', we shall predict y_prediction=0 if A <= 0.5(threshold)\n",
    "    for i in range(A.shape[1]):\n",
    "        Y_prediction[0,i] = 0 if A[0,i] <= 0.5 else 1\n",
    "    \n",
    "    return Y_prediction\n",
    "\n",
    "    "
   ]
  },
  {
   "cell_type": "code",
   "execution_count": 120,
   "metadata": {
    "collapsed": true
   },
   "outputs": [],
   "source": [
    "#step-08 Main function with integrates all the above steps in sequence\n",
    "def mainIntegration(train_x, train_y, test_x, test_y, m_train):\n",
    "    alpha=0.05\n",
    "    noIterations=2000\n",
    "    \n",
    "    #random initialization\n",
    "    w, b = randomInitialization(train_x.shape[0])\n",
    "    \n",
    "    #F.W.D and B.W.D propogation for cost, dw & db & Optimizing dw & db\n",
    "    parameters, gradients, costs = perfectFit(train_x, train_y, w, b, alpha, noIterations)\n",
    "    \n",
    "    w = parameters[\"w\"]\n",
    "    b = parameters[\"b\"]\n",
    "    \n",
    "    #Predicting the output for test data\n",
    "    y_prediction_test = testData(test_x, w, b)\n",
    "    y_prediction_train = testData(train_x, w, b)\n",
    "    \n",
    "    print(\"test accuracy: {} %\".format(100 - np.mean(np.abs(y_prediction_test - test_y)) * 100))\n",
    "    \n",
    "    d = {\"costs\": costs,\n",
    "         \"Y_prediction_test\": y_prediction_test, \n",
    "         \"Y_prediction_train\" : y_prediction_train, \n",
    "         \"w\" : w, \n",
    "         \"b\" : b,\n",
    "         \"learning_rate\" : alpha,\n",
    "         \"num_iterations\": noIterations}\n",
    "    \n",
    "    return d"
   ]
  },
  {
   "cell_type": "code",
   "execution_count": 121,
   "metadata": {},
   "outputs": [
    {
     "name": "stdout",
     "output_type": "stream",
     "text": [
      "test accuracy: 68.0 %\n"
     ]
    }
   ],
   "source": [
    "d = mainIntegration(train_x, train_y, test_x, test_y, m_train)"
   ]
  },
  {
   "cell_type": "code",
   "execution_count": 122,
   "metadata": {},
   "outputs": [
    {
     "data": {
      "image/png": "[encoded data removed]",
      "text/plain": [
       "<matplotlib.figure.Figure at 0x7f502c221fd0>"
      ]
     },
     "metadata": {},
     "output_type": "display_data"
    }
   ],
   "source": [
    "costs = np.squeeze(d['costs'])\n",
    "plt.plot(costs)\n",
    "plt.ylabel('cost')\n",
    "plt.xlabel('iterations')\n",
    "plt.title(\"Learning rate =\" + str(d[\"learning_rate\"]))\n",
    "plt.show()"
   ]
  },
  {
   "cell_type": "code",
   "execution_count": null,
   "metadata": {
    "collapsed": true
   },
   "outputs": [],
   "source": []
  }
 ],
 "metadata": {
  "kernelspec": {
   "display_name": "Python 3",
   "language": "python",
   "name": "python3"
  },
  "language_info": {
   "codemirror_mode": {
    "name": "ipython",
    "version": 3
   },
   "file_extension": ".py",
   "mimetype": "text/x-python",
   "name": "python",
   "nbconvert_exporter": "python",
   "pygments_lexer": "ipython3",
   "version": "3.6.0"
  }
 },
 "nbformat": 4,
 "nbformat_minor": 2
}
